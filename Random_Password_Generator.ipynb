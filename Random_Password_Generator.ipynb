{
  "nbformat": 4,
  "nbformat_minor": 0,
  "metadata": {
    "colab": {
      "provenance": [],
      "authorship_tag": "ABX9TyNXwrsRfsOKHYHeeit4lQXY",
      "include_colab_link": true
    },
    "kernelspec": {
      "name": "python3",
      "display_name": "Python 3"
    },
    "language_info": {
      "name": "python"
    }
  },
  "cells": [
    {
      "cell_type": "markdown",
      "metadata": {
        "id": "view-in-github",
        "colab_type": "text"
      },
      "source": [
        "<a href=\"https://colab.research.google.com/github/kavyabanka/MiniProjects/blob/main/Random_Password_Generator.ipynb\" target=\"_parent\"><img src=\"https://colab.research.google.com/assets/colab-badge.svg\" alt=\"Open In Colab\"/></a>"
      ]
    },
    {
      "cell_type": "markdown",
      "source": [
        "Numeric Password\n"
      ],
      "metadata": {
        "id": "xA-CGMMW4EB-"
      }
    },
    {
      "cell_type": "code",
      "source": [
        "import random\n",
        "random.randint(10,99)"
      ],
      "metadata": {
        "colab": {
          "base_uri": "https://localhost:8080/"
        },
        "id": "RLxn5-tk4Jmo",
        "outputId": "abf46ec5-d587-43c4-beb1-7a9c8ec09b65"
      },
      "execution_count": 1,
      "outputs": [
        {
          "output_type": "execute_result",
          "data": {
            "text/plain": [
              "41"
            ]
          },
          "metadata": {},
          "execution_count": 1
        }
      ]
    },
    {
      "cell_type": "code",
      "source": [
        "import random\n",
        "len = int(input(\"Enter the number\"))\n",
        "start = pow(10,len-1)\n",
        "end = int('9'*len)\n",
        "random.randint(start,end)\n"
      ],
      "metadata": {
        "colab": {
          "base_uri": "https://localhost:8080/"
        },
        "id": "1aGtjEVi4YeX",
        "outputId": "22555ef4-6af8-4984-e9f1-6f8f17050c96"
      },
      "execution_count": 2,
      "outputs": [
        {
          "name": "stdout",
          "output_type": "stream",
          "text": [
            "Enter the number3\n"
          ]
        },
        {
          "output_type": "execute_result",
          "data": {
            "text/plain": [
              "533"
            ]
          },
          "metadata": {},
          "execution_count": 2
        }
      ]
    },
    {
      "cell_type": "markdown",
      "source": [
        "Alphabet(A-Z)"
      ],
      "metadata": {
        "id": "r9pLvGGa5xhh"
      }
    },
    {
      "cell_type": "code",
      "source": [
        "import random\n",
        "length = int(input(\"Enter the number \"))\n",
        "password=''\n",
        "for i in range(length):\n",
        "   password += chr(random.randint(65,90))\n",
        "\n",
        "print(\"Password : \",password)"
      ],
      "metadata": {
        "colab": {
          "base_uri": "https://localhost:8080/"
        },
        "id": "bdJ7JK3Z51HE",
        "outputId": "41c7340d-909b-44bc-b98b-b8dc59d58fc6"
      },
      "execution_count": 3,
      "outputs": [
        {
          "output_type": "stream",
          "name": "stdout",
          "text": [
            "Enter the number 3\n",
            "Password :  UJM\n"
          ]
        }
      ]
    },
    {
      "cell_type": "markdown",
      "source": [
        "Alphabet(a-z)"
      ],
      "metadata": {
        "id": "E-k_KilC8npe"
      }
    },
    {
      "cell_type": "code",
      "source": [
        "import random\n",
        "length = int(input(\"Enter the number \"))\n",
        "password=''\n",
        "for i in range(length):\n",
        "   password += chr(random.randint(97,122))\n",
        "\n",
        "print(\"Password : \",password)"
      ],
      "metadata": {
        "colab": {
          "base_uri": "https://localhost:8080/"
        },
        "id": "1AzSDVhU8sk6",
        "outputId": "c80c662c-cf42-4805-b684-923ffeb1fb54"
      },
      "execution_count": 4,
      "outputs": [
        {
          "output_type": "stream",
          "name": "stdout",
          "text": [
            "Enter the number 3\n",
            "Password :  enu\n"
          ]
        }
      ]
    },
    {
      "cell_type": "markdown",
      "source": [
        "Alphanumeric"
      ],
      "metadata": {
        "id": "XGKTki1D8y9j"
      }
    },
    {
      "cell_type": "code",
      "source": [
        "length = int(input(\"Enter the number \"))\n",
        "password=''\n",
        "for i in range(length):\n",
        "   password += chr(random.randint(33,126))\n",
        "\n",
        "print(\"Password : \",password)"
      ],
      "metadata": {
        "colab": {
          "base_uri": "https://localhost:8080/"
        },
        "id": "4u27hBye81Q0",
        "outputId": "e6e85ece-83d0-470b-8275-40ed30614e4a"
      },
      "execution_count": 5,
      "outputs": [
        {
          "output_type": "stream",
          "name": "stdout",
          "text": [
            "Enter the number 2\n",
            "Password :  D(\n"
          ]
        }
      ]
    },
    {
      "cell_type": "markdown",
      "source": [
        "Alphanumeric(Removing Specific Special Characters)"
      ],
      "metadata": {
        "id": "X9Gkdhw19BnJ"
      }
    },
    {
      "cell_type": "code",
      "source": [
        "import random\n",
        "\n",
        "length = int(input(\"What should be the length of the password? \"))\n",
        "password = ''\n",
        "\n",
        "while len(password) != length:\n",
        "    ch = chr(random.randint(33, 126))\n",
        "    \n",
        "    if ord(ch) >= 35 and ord(ch) <= 38:  # #$%&\n",
        "        password += ch\n",
        "    \n",
        "    elif ord(ch) >= 48 and ord(ch) <= 57:  # 0123456789\n",
        "        password += ch\n",
        "        \n",
        "    elif ord(ch) >= 65 and ord(ch) <= 90:  # DFHGVAF\n",
        "        password += ch\n",
        "        \n",
        "    elif ord(ch) >= 97 and ord(ch) <= 122:  # asdfghbvc\n",
        "        password += ch\n",
        "    \n",
        "print(\"Password: \", password)\n"
      ],
      "metadata": {
        "colab": {
          "base_uri": "https://localhost:8080/"
        },
        "id": "1MyNS3549Hu7",
        "outputId": "b72b8f43-d24e-458c-8d1b-7d161859d5f5"
      },
      "execution_count": 2,
      "outputs": [
        {
          "output_type": "stream",
          "name": "stdout",
          "text": [
            "What should be the length of the password? 20\n",
            "Password:  HIXTKT1mB0hsnUWzh4x1\n"
          ]
        }
      ]
    },
    {
      "cell_type": "code",
      "source": [
        "\n"
      ],
      "metadata": {
        "id": "tWhjSgjT-nub"
      },
      "execution_count": null,
      "outputs": []
    }
  ]
}