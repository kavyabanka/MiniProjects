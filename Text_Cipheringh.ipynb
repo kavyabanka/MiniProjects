{
  "nbformat": 4,
  "nbformat_minor": 0,
  "metadata": {
    "colab": {
      "provenance": [],
      "authorship_tag": "ABX9TyNhI5Dfvsdv5UygCOMj4L8Y",
      "include_colab_link": true
    },
    "kernelspec": {
      "name": "python3",
      "display_name": "Python 3"
    },
    "language_info": {
      "name": "python"
    }
  },
  "cells": [
    {
      "cell_type": "markdown",
      "metadata": {
        "id": "view-in-github",
        "colab_type": "text"
      },
      "source": [
        "<a href=\"https://colab.research.google.com/github/kavyabanka/MiniProjects/blob/main/Text_Cipheringh.ipynb\" target=\"_parent\"><img src=\"https://colab.research.google.com/assets/colab-badge.svg\" alt=\"Open In Colab\"/></a>"
      ]
    },
    {
      "cell_type": "code",
      "execution_count": 1,
      "metadata": {
        "id": "nQ7sD0PI9jNH"
      },
      "outputs": [],
      "source": [
        "msg = 'Kavya is a good girl'"
      ]
    },
    {
      "cell_type": "code",
      "source": [
        "msg"
      ],
      "metadata": {
        "colab": {
          "base_uri": "https://localhost:8080/",
          "height": 35
        },
        "id": "ZsSswnZR9wef",
        "outputId": "e500bc66-eac7-42bc-90be-0f185d6749d4"
      },
      "execution_count": 2,
      "outputs": [
        {
          "output_type": "execute_result",
          "data": {
            "text/plain": [
              "'Kavya is a good girl'"
            ],
            "application/vnd.google.colaboratory.intrinsic+json": {
              "type": "string"
            }
          },
          "metadata": {},
          "execution_count": 2
        }
      ]
    },
    {
      "cell_type": "code",
      "source": [
        "msg = str(input(\"Enter the message : \"))\n",
        "ch = msg[::-1]\n",
        "print(ch)"
      ],
      "metadata": {
        "colab": {
          "base_uri": "https://localhost:8080/"
        },
        "id": "9dme3bwj90D0",
        "outputId": "21cbdda3-ae5f-452b-a2c2-07d08245bcb8"
      },
      "execution_count": 4,
      "outputs": [
        {
          "output_type": "stream",
          "name": "stdout",
          "text": [
            "Enter the message : Kavya\n",
            "ayvaK\n"
          ]
        }
      ]
    },
    {
      "cell_type": "code",
      "source": [
        "decipher = ch[::-1]\n",
        "print(decipher)"
      ],
      "metadata": {
        "colab": {
          "base_uri": "https://localhost:8080/"
        },
        "id": "dOkhdsmm_oxd",
        "outputId": "250aa0e9-df4b-447e-835c-dd867f29dcd5"
      },
      "execution_count": 6,
      "outputs": [
        {
          "output_type": "stream",
          "name": "stdout",
          "text": [
            "Kavya\n"
          ]
        }
      ]
    },
    {
      "cell_type": "markdown",
      "source": [
        "Text Ciphering"
      ],
      "metadata": {
        "id": "tWi4DNlt_yLC"
      }
    },
    {
      "cell_type": "code",
      "source": [
        "def cipher(ch):\n",
        "  print(chr(ord(ch)+1))"
      ],
      "metadata": {
        "id": "0G0kcABz_0MF"
      },
      "execution_count": 9,
      "outputs": []
    },
    {
      "cell_type": "code",
      "source": [
        "enc = ''\n",
        "for i in 'Hi, How are you doing?':\n",
        "  enc += chr(ord(i)+1) \n",
        "print(enc)"
      ],
      "metadata": {
        "colab": {
          "base_uri": "https://localhost:8080/"
        },
        "id": "hZ_YX015ATeZ",
        "outputId": "f0e29fb3-299c-473c-feb8-603b0635d9d6"
      },
      "execution_count": 11,
      "outputs": [
        {
          "output_type": "stream",
          "name": "stdout",
          "text": [
            "Ij-!Ipx!bsf!zpv!epjoh@\n"
          ]
        }
      ]
    },
    {
      "cell_type": "code",
      "source": [
        "decipher = ''\n",
        "for i in enc:\n",
        "  decipher += chr(ord(i)-1)\n",
        "print(decipher)"
      ],
      "metadata": {
        "colab": {
          "base_uri": "https://localhost:8080/"
        },
        "id": "8G6q4fnpDoIR",
        "outputId": "d4e3672c-ebc8-476c-accd-83a14e531d55"
      },
      "execution_count": 12,
      "outputs": [
        {
          "output_type": "stream",
          "name": "stdout",
          "text": [
            "Hi, How are you doing?\n"
          ]
        }
      ]
    },
    {
      "cell_type": "code",
      "source": [
        "msg = str(input(\"enter the message: \"))\n",
        "key = int(input('enter the key: '))\n",
        "\n",
        "def cipher(ch,key):\n",
        "    return chr(ord(ch) + key)\n",
        "\n",
        "enc = ''\n",
        "\n",
        "for i in msg:\n",
        "    ch = cipher(i,key)\n",
        "    enc += ch\n",
        "    \n",
        "print(enc)"
      ],
      "metadata": {
        "colab": {
          "base_uri": "https://localhost:8080/"
        },
        "id": "De9UrWA1FH8o",
        "outputId": "283eb70b-d5af-4987-fecc-c0321c93fb7b"
      },
      "execution_count": 13,
      "outputs": [
        {
          "output_type": "stream",
          "name": "stdout",
          "text": [
            "enter the message: How are you doing?   \n",
            "enter the key: 3\n",
            "Krz#duh#|rx#grlqjB###\n"
          ]
        }
      ]
    },
    {
      "cell_type": "code",
      "source": [
        "decipher = ''\n",
        "for i in enc:\n",
        "  decipher += chr(ord(i)-key)\n",
        "print(decipher)"
      ],
      "metadata": {
        "colab": {
          "base_uri": "https://localhost:8080/"
        },
        "id": "kQI1csyWFTxN",
        "outputId": "e681e3a0-4121-4c59-ef6b-64e55c80cabf"
      },
      "execution_count": 14,
      "outputs": [
        {
          "output_type": "stream",
          "name": "stdout",
          "text": [
            "How are you doing?   \n"
          ]
        }
      ]
    }
  ]
}